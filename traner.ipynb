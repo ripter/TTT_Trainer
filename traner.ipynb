{
 "cells": [
  {
   "cell_type": "code",
   "execution_count": null,
   "id": "d65ce91d-7976-4461-9e30-683a2d2df901",
   "metadata": {},
   "outputs": [],
   "source": [
    "import sys\n",
    "import os\n",
    "\n",
    "# Add the src/ to path so we can import things.\n",
    "src_path = os.path.abspath(os.path.join(os.getcwd(), 'src'))\n",
    "if src_path not in sys.path:\n",
    "    sys.path.append(src_path)"
   ]
  },
  {
   "cell_type": "code",
   "execution_count": null,
   "id": "84be8992-94d6-41cc-8d7d-4e211208e524",
   "metadata": {},
   "outputs": [],
   "source": [
    "# Figure out how to use MLX for LoRA\n",
    "# https://github.com/ml-explore/mlx-examples/blob/main/llms/mlx_lm/LORA.md\n",
    "\n",
    "# python -m mlx_lm.lora --help\n",
    "\n",
    "\n",
    "# Step 1: Data format\n",
    "# Data needs to be stored in the JSONL format.\n",
    "# Example Line: `{\"text\": \"This is an example for the model.\"}`\n",
    "# We need train.jsonl, valid.jsonl, test.jsonl files for LoRA training.\n",
    "import json\n",
    "from os import path\n",
    "from src.consts import DIR_OUTPUT\n",
    "\n",
    "# Grab the raw text file names by prefix.\n",
    "file_prefix = \"random_move_game_log\"\n",
    "file_glob = path.join(DIR_OUTPUT, f'{file_prefix}*.txt')\n",
    "file_names = glob(file_glob)\n",
    "file_data = []\n",
    "\n",
    "# Turn each file into a JSON object.\n",
    "for file_name in file_names:\n",
    "    with open(file_name, \"r\") as file:\n",
    "        file_contents = file.read()\n",
    "        json_object = json.dumps({\"text\": file_contents})\n",
    "        file_data.append(json_object)\n",
    "\n",
    "# Write all the data to file.\n",
    "data_file_path = path.join(DIR_OUTPUT, f'all_{file_prefix}.jsonl')\n",
    "with open(data_file_path, \"a\") as file:\n",
    "    for item in file_data:\n",
    "        file.write(item + '\\n')\n",
    "\n",
    "\n"
   ]
  },
  {
   "cell_type": "code",
   "execution_count": null,
   "id": "81785f23-91d5-4d9c-9dc4-06c3f14959f1",
   "metadata": {},
   "outputs": [],
   "source": [
    "\n",
    "with open(file_names[0], \"r\") as file:\n",
    "    help(file)"
   ]
  },
  {
   "cell_type": "code",
   "execution_count": null,
   "id": "ce4fbfbe-8218-44ab-9483-2b602188f102",
   "metadata": {},
   "outputs": [],
   "source": [
    "file_data"
   ]
  },
  {
   "cell_type": "code",
   "execution_count": null,
   "id": "1960e41c-967e-4779-8163-12bc130340bf",
   "metadata": {},
   "outputs": [],
   "source": []
  }
 ],
 "metadata": {
  "kernelspec": {
   "display_name": "Python 3 (ipykernel)",
   "language": "python",
   "name": "python3"
  },
  "language_info": {
   "codemirror_mode": {
    "name": "ipython",
    "version": 3
   },
   "file_extension": ".py",
   "mimetype": "text/x-python",
   "name": "python",
   "nbconvert_exporter": "python",
   "pygments_lexer": "ipython3",
   "version": "3.9.6"
  }
 },
 "nbformat": 4,
 "nbformat_minor": 5
}
