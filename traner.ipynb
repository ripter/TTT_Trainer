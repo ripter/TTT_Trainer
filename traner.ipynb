{
 "cells": [
  {
   "cell_type": "code",
   "execution_count": 4,
   "id": "84be8992-94d6-41cc-8d7d-4e211208e524",
   "metadata": {},
   "outputs": [
    {
     "ename": "ModuleNotFoundError",
     "evalue": "No module named 'GameState'",
     "output_type": "error",
     "traceback": [
      "\u001b[0;31m---------------------------------------------------------------------------\u001b[0m",
      "\u001b[0;31mModuleNotFoundError\u001b[0m                       Traceback (most recent call last)",
      "Cell \u001b[0;32mIn[4], line 1\u001b[0m\n\u001b[0;32m----> 1\u001b[0m \u001b[38;5;28;01mfrom\u001b[39;00m \u001b[38;5;21;01msrc\u001b[39;00m\u001b[38;5;21;01m.\u001b[39;00m\u001b[38;5;21;01mplay_human\u001b[39;00m \u001b[38;5;28;01mimport\u001b[39;00m play_random_ai\n\u001b[1;32m      3\u001b[0m play_random_ai()\n",
      "File \u001b[0;32m~/dev/TTT_Trainer/src/play_human.py:7\u001b[0m\n\u001b[1;32m      1\u001b[0m \u001b[38;5;66;03m##\u001b[39;00m\n\u001b[1;32m      2\u001b[0m \u001b[38;5;66;03m## Human player vs AI, battle is logged to file.\u001b[39;00m\n\u001b[1;32m      3\u001b[0m \u001b[38;5;66;03m## Run file to generate a log of a game of Tic Tac Toe.\u001b[39;00m\n\u001b[1;32m      4\u001b[0m \u001b[38;5;66;03m##\u001b[39;00m\n\u001b[1;32m      6\u001b[0m \u001b[38;5;28;01mimport\u001b[39;00m \u001b[38;5;21;01mrandom\u001b[39;00m\n\u001b[0;32m----> 7\u001b[0m \u001b[38;5;28;01mfrom\u001b[39;00m \u001b[38;5;21;01mGameState\u001b[39;00m \u001b[38;5;28;01mimport\u001b[39;00m GameState\n\u001b[1;32m      8\u001b[0m \u001b[38;5;28;01mfrom\u001b[39;00m \u001b[38;5;21;01mconsts\u001b[39;00m \u001b[38;5;28;01mimport\u001b[39;00m INSTRUCTION\n\u001b[1;32m      9\u001b[0m \u001b[38;5;28;01mfrom\u001b[39;00m \u001b[38;5;21;01mfile_utils\u001b[39;00m \u001b[38;5;28;01mimport\u001b[39;00m get_unique_filename\n",
      "\u001b[0;31mModuleNotFoundError\u001b[0m: No module named 'GameState'"
     ]
    }
   ],
   "source": [
    "from src.play_human import play_random_ai\n",
    "\n",
    "play_random_ai()"
   ]
  },
  {
   "cell_type": "code",
   "execution_count": null,
   "id": "ee41d69a-0383-465d-826a-d6c77a7e7bd1",
   "metadata": {},
   "outputs": [],
   "source": [
    "from transformers import AutoTokenizer, AutoModel, AutoModelForCausalLM\n",
    "\n",
    "device = \"cpu\"\n",
    "# Define generation settings in a dictionary\n",
    "generation_config = {\n",
    "    \"max_length\": 200,\n",
    "    \"min_length\": 50,\n",
    "    \"early_stopping\": True,\n",
    "    \"num_beams\": 5,\n",
    "    \"temperature\": 0.7,\n",
    "    \"top_k\": 50,\n",
    "    \"top_p\": 0.95,\n",
    "    \"do_sample\": True,  # Enable sampling\n",
    "    # \"attention_mask\": attention_mask,  # Use the attention mask\n",
    "}\n",
    "\n",
    "# load the Tokenizer and Model\n",
    "tokenizer = AutoTokenizer.from_pretrained(PATH_MODEL)\n",
    "model = AutoModelForCausalLM.from_pretrained(PATH_MODEL).to(device)\n",
    "\n",
    "# Create the tokens\n",
    "sequence = \"In a hole in the ground there lived a hobbit.\"\n",
    "input_ids = tokenizer.encode(sequence, return_tensors=\"pt\").to(device)\n",
    "\n",
    "\n",
    "# Generate text using the encoded input IDs\n",
    "generated_ids = model.generate(input_ids=input_ids, **generation_config)\n",
    "# Decode the generated IDs to text\n",
    "generated_text = tokenizer.decode(generated_ids[0], skip_special_tokens=True)\n",
    "\n",
    "print(generated_text)"
   ]
  },
  {
   "cell_type": "code",
   "execution_count": null,
   "id": "839c5455-42bd-4643-b180-d063c9ac0462",
   "metadata": {},
   "outputs": [],
   "source": [
    "from mlx_lm import load, generate\n",
    "\n",
    "model, tokenizer = load(PATH_MODEL)\n",
    "\n",
    "response = generate(\n",
    "    model, \n",
    "    tokenizer,\n",
    "    max_tokens=200,\n",
    "    temp=0.7,\n",
    "    prompt=\"In a hole in the ground there lived a hobbit.\", \n",
    "    verbose=True\n",
    ")"
   ]
  }
 ],
 "metadata": {
  "kernelspec": {
   "display_name": "Python 3 (ipykernel)",
   "language": "python",
   "name": "python3"
  },
  "language_info": {
   "codemirror_mode": {
    "name": "ipython",
    "version": 3
   },
   "file_extension": ".py",
   "mimetype": "text/x-python",
   "name": "python",
   "nbconvert_exporter": "python",
   "pygments_lexer": "ipython3",
   "version": "3.9.6"
  }
 },
 "nbformat": 4,
 "nbformat_minor": 5
}
