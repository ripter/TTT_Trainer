{
 "cells": [
  {
   "cell_type": "code",
   "execution_count": null,
   "id": "84be8992-94d6-41cc-8d7d-4e211208e524",
   "metadata": {},
   "outputs": [],
   "source": [
    "# Figure out how to use MLX for LoRA\n",
    "# https://github.com/ml-explore/mlx-examples/blob/main/llms/mlx_lm/LORA.md\n",
    "\n",
    "# python -m mlx_lm.lora --help\n",
    "\n",
    "\n",
    "# Step 1: Data format\n",
    "# Data is stored in the JSONL format.\n",
    "# Example Line: `{\"text\": \"This is an example for the model.\"}`\n",
    "\n",
    "\n"
   ]
  }
 ],
 "metadata": {
  "kernelspec": {
   "display_name": "Python 3 (ipykernel)",
   "language": "python",
   "name": "python3"
  },
  "language_info": {
   "codemirror_mode": {
    "name": "ipython",
    "version": 3
   },
   "file_extension": ".py",
   "mimetype": "text/x-python",
   "name": "python",
   "nbconvert_exporter": "python",
   "pygments_lexer": "ipython3",
   "version": "3.9.6"
  }
 },
 "nbformat": 4,
 "nbformat_minor": 5
}
