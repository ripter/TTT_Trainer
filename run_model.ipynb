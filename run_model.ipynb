{
 "cells": [
  {
   "cell_type": "code",
   "execution_count": 1,
   "id": "3451637c-1e5b-45f4-9894-1c3c990ee6cc",
   "metadata": {},
   "outputs": [],
   "source": [
    "PATH_MODEL = \"./models/Mistral-7B-v0.1/\"\n",
    "\n",
    "import sys\n",
    "import os\n",
    "\n",
    "# Add the src/ to path so we can import things.\n",
    "src_path = os.path.abspath(os.path.join(os.getcwd(), 'src'))\n",
    "if src_path not in sys.path:\n",
    "    sys.path.append(src_path)"
   ]
  },
  {
   "cell_type": "code",
   "execution_count": 2,
   "id": "61810c00-3b67-4a6c-b3bd-c45851a09222",
   "metadata": {},
   "outputs": [
    {
     "name": "stderr",
     "output_type": "stream",
     "text": [
      "/Users/chrisrichards/dev/TTT_Trainer/venv/lib/python3.9/site-packages/urllib3/__init__.py:34: NotOpenSSLWarning: urllib3 v2 only supports OpenSSL 1.1.1+, currently the 'ssl' module is compiled with 'LibreSSL 2.8.3'. See: https://github.com/urllib3/urllib3/issues/3020\n",
      "  warnings.warn(\n"
     ]
    },
    {
     "name": "stdout",
     "output_type": "stream",
     "text": [
      "\n",
      " Next Play: X \n",
      "   |   |   \n",
      "   |   |   \n",
      "   |   |   \n",
      "\n",
      "----\n"
     ]
    },
    {
     "name": "stdin",
     "output_type": "stream",
     "text": [
      "0-8:  4\n"
     ]
    },
    {
     "name": "stdout",
     "output_type": "stream",
     "text": [
      "\n",
      " Next Play: O \n",
      "   |   |   \n",
      "   | X |   \n",
      "   |   |   \n",
      "\n",
      "----\n",
      "Prompting AI\n",
      "====\n",
      "3TBot is playing Tic Tak Toe with User.\n",
      "3TBot is playing as O. User is playing as X.\n",
      "Only play when it is your turn.\n",
      "Stop playing when someone wins.\n",
      "\n",
      " Next Play: X \n",
      "   |   |   \n",
      "   |   |   \n",
      "   |   |   \n",
      "\n",
      " Next Play: O \n",
      "   |   |   \n",
      "   | X |   \n",
      "   |   |   \n",
      "\n",
      "====\n",
      "AI Response at temperature 0\n",
      "====\n",
      "\n",
      " Next Play: X \n",
      "   |   |   \n",
      "   | X |   \n",
      "   | O |   \n",
      "\n",
      "====\n"
     ]
    }
   ],
   "source": [
    "from play_ai import play_ai\n",
    "\n",
    "play_ai(PATH_MODEL)"
   ]
  },
  {
   "cell_type": "code",
   "execution_count": null,
   "id": "8bb92a7c-5578-4853-82f5-0ad1cae1b3a5",
   "metadata": {},
   "outputs": [],
   "source": []
  }
 ],
 "metadata": {
  "kernelspec": {
   "display_name": "Python 3 (ipykernel)",
   "language": "python",
   "name": "python3"
  },
  "language_info": {
   "codemirror_mode": {
    "name": "ipython",
    "version": 3
   },
   "file_extension": ".py",
   "mimetype": "text/x-python",
   "name": "python",
   "nbconvert_exporter": "python",
   "pygments_lexer": "ipython3",
   "version": "3.9.6"
  }
 },
 "nbformat": 4,
 "nbformat_minor": 5
}
