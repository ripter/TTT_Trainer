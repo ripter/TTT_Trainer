{
 "cells": [
  {
   "cell_type": "code",
   "execution_count": 1,
   "id": "3451637c-1e5b-45f4-9894-1c3c990ee6cc",
   "metadata": {},
   "outputs": [],
   "source": [
    "PATH_MODEL = \"./models/Mistral-7B-v0.1/\"\n",
    "\n",
    "import sys\n",
    "import os\n",
    "from src.consts import DIR_OUTPUT\n",
    "\n",
    "# Add the src/ to path so we can import things.\n",
    "src_path = os.path.abspath(os.path.join(os.getcwd(), 'src'))\n",
    "if src_path not in sys.path:\n",
    "    sys.path.append(src_path)\n",
    "\n",
    "\n",
    "# Make sure the output folder exists.\n",
    "os.makedirs(DIR_OUTPUT, exist_ok=True)"
   ]
  },
  {
   "cell_type": "code",
   "execution_count": 2,
   "id": "61810c00-3b67-4a6c-b3bd-c45851a09222",
   "metadata": {},
   "outputs": [
    {
     "name": "stderr",
     "output_type": "stream",
     "text": [
      "/Users/chrisrichards/dev/TTT_Trainer/venv/lib/python3.9/site-packages/urllib3/__init__.py:34: NotOpenSSLWarning: urllib3 v2 only supports OpenSSL 1.1.1+, currently the 'ssl' module is compiled with 'LibreSSL 2.8.3'. See: https://github.com/urllib3/urllib3/issues/3020\n",
      "  warnings.warn(\n"
     ]
    },
    {
     "name": "stdout",
     "output_type": "stream",
     "text": [
      "\n",
      " Next Play: X \n",
      "   |   |   \n",
      "   |   |   \n",
      "   |   |   \n",
      "\n",
      "----\n"
     ]
    },
    {
     "name": "stdin",
     "output_type": "stream",
     "text": [
      "Player Move (0-8):  3\n"
     ]
    },
    {
     "name": "stdout",
     "output_type": "stream",
     "text": [
      "\n",
      " Next Play: O \n",
      "   |   |   \n",
      " X |   |   \n",
      "   |   |   \n",
      "\n",
      "----\n",
      "AI Response:\n",
      "\n",
      " Next Play: X \n",
      "   |   |   \n",
      " X |   |   \n",
      "   |   |   \n",
      "\n",
      "Where did the AI move? (-1 for invalid response)\n"
     ]
    },
    {
     "name": "stdin",
     "output_type": "stream",
     "text": [
      "AI Move (-1 to 8):  -1\n",
      "How did the AI fail? Gameboard has not been updated with AI's move.\n"
     ]
    },
    {
     "name": "stdout",
     "output_type": "stream",
     "text": [
      "\n",
      " Next Play: O \n",
      "   |   |   \n",
      " X |   |   \n",
      "   |   |   \n",
      "\n",
      "\n",
      "=========\n",
      "Game Log:\n",
      "\n",
      "3TBot is playing Tic Tak Toe with User.\n",
      "3TBot is playing as O. User is playing as X.\n",
      "Only play when it is your turn.\n",
      "Update the gameboard with your move.\n",
      "Stop playing when someone wins.\n",
      "\n",
      " Next Play: X \n",
      "   |   |   \n",
      "   |   |   \n",
      "   |   |   \n",
      "\n",
      " Next Play: O \n",
      "   |   |   \n",
      " X |   |   \n",
      "   |   |   \n",
      "\n",
      " Next Play: X \n",
      "   |   |   \n",
      " X |   |   \n",
      "   |   |   \n",
      "\n",
      "Game Over\n",
      "\n",
      "3TBot FAILED:\n",
      "Gameboard has not been updated with AI's move.\n"
     ]
    }
   ],
   "source": [
    "import os\n",
    "from consts import DIR_OUTPUT\n",
    "from file_utils import get_unique_filename\n",
    "from play_ai import play_ai\n",
    "\n",
    "GAME_NAME = \"untrained\"\n",
    "# Play the AI!\n",
    "game_log = play_ai(PATH_MODEL)\n",
    "\n",
    "# Log the Game Results.\n",
    "file_path = os.path.join(DIR_OUTPUT, f'{GAME_NAME}_game_log.txt')\n",
    "file_name = get_unique_filename(file_path)\n",
    "with open(file_name, \"w\") as file:\n",
    "    file.write(game_log)"
   ]
  },
  {
   "cell_type": "code",
   "execution_count": null,
   "id": "8bb92a7c-5578-4853-82f5-0ad1cae1b3a5",
   "metadata": {},
   "outputs": [],
   "source": []
  }
 ],
 "metadata": {
  "kernelspec": {
   "display_name": "Python 3 (ipykernel)",
   "language": "python",
   "name": "python3"
  },
  "language_info": {
   "codemirror_mode": {
    "name": "ipython",
    "version": 3
   },
   "file_extension": ".py",
   "mimetype": "text/x-python",
   "name": "python",
   "nbconvert_exporter": "python",
   "pygments_lexer": "ipython3",
   "version": "3.9.6"
  }
 },
 "nbformat": 4,
 "nbformat_minor": 5
}
