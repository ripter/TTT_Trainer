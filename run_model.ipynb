{
 "cells": [
  {
   "cell_type": "code",
   "execution_count": null,
   "id": "3451637c-1e5b-45f4-9894-1c3c990ee6cc",
   "metadata": {},
   "outputs": [],
   "source": [
    "PATH_MODEL = \"./models/Mistral-7B-v0.1/\"\n",
    "\n",
    "import sys\n",
    "import os\n",
    "from src.consts import DIR_OUTPUT\n",
    "\n",
    "# Add the src/ to path so we can import things.\n",
    "src_path = os.path.abspath(os.path.join(os.getcwd(), 'src'))\n",
    "if src_path not in sys.path:\n",
    "    sys.path.append(src_path)\n",
    "\n",
    "\n",
    "# Make sure the output folder exists.\n",
    "os.makedirs(DIR_OUTPUT, exist_ok=True)"
   ]
  },
  {
   "cell_type": "code",
   "execution_count": null,
   "id": "61810c00-3b67-4a6c-b3bd-c45851a09222",
   "metadata": {},
   "outputs": [],
   "source": [
    "import os\n",
    "from consts import DIR_OUTPUT\n",
    "from file_utils import get_unique_filename\n",
    "\n",
    "from play_ai import play_ai\n",
    "\n",
    "game_log = play_ai(PATH_MODEL)\n",
    "\n",
    "file_path = os.path.join(DIR_OUTPUT, \"untrained_game_log.txt\")\n",
    "file_name = get_unique_filename(file_path)\n",
    "with open(file_name, \"w\") as file:\n",
    "    file.write(game_log)"
   ]
  },
  {
   "cell_type": "code",
   "execution_count": null,
   "id": "8bb92a7c-5578-4853-82f5-0ad1cae1b3a5",
   "metadata": {},
   "outputs": [],
   "source": []
  }
 ],
 "metadata": {
  "kernelspec": {
   "display_name": "Python 3 (ipykernel)",
   "language": "python",
   "name": "python3"
  },
  "language_info": {
   "codemirror_mode": {
    "name": "ipython",
    "version": 3
   },
   "file_extension": ".py",
   "mimetype": "text/x-python",
   "name": "python",
   "nbconvert_exporter": "python",
   "pygments_lexer": "ipython3",
   "version": "3.9.6"
  }
 },
 "nbformat": 4,
 "nbformat_minor": 5
}
