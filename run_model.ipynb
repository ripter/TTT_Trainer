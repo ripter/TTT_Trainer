{
 "cells": [
  {
   "cell_type": "code",
   "execution_count": null,
   "id": "3451637c-1e5b-45f4-9894-1c3c990ee6cc",
   "metadata": {},
   "outputs": [],
   "source": [
    "PATH_MODEL = \"./models/Mistral-7B-v0.1/\"\n",
    "LoRA_PATH = \"./results/phase_1_adapters.npz\"\n",
    "# PATH_MODEL = \"./models/Mistral-7B-TTT/\"\n",
    "LoRA_PATH = None\n",
    "\n",
    "import sys\n",
    "import os\n",
    "from src.consts import DIR_OUTPUT\n",
    "\n",
    "# Add the src/ to path so we can import things.\n",
    "src_path = os.path.abspath(os.path.join(os.getcwd(), 'src'))\n",
    "if src_path not in sys.path:\n",
    "    sys.path.append(src_path)\n",
    "\n",
    "\n",
    "# Make sure the output folder exists.\n",
    "os.makedirs(DIR_OUTPUT, exist_ok=True)"
   ]
  },
  {
   "cell_type": "code",
   "execution_count": null,
   "id": "61810c00-3b67-4a6c-b3bd-c45851a09222",
   "metadata": {},
   "outputs": [],
   "source": [
    "import os\n",
    "from consts import DIR_OUTPUT\n",
    "from file_utils import get_unique_filename\n",
    "from play_ai import play_ai\n",
    "\n",
    "GAME_NAME = \"phase2\"\n",
    "# Play the AI!\n",
    "game_log = play_ai(PATH_MODEL, LoRA_PATH)\n",
    "\n",
    "# Log the Game Results.\n",
    "file_path = os.path.join(DIR_OUTPUT, f'{GAME_NAME}_game_log.txt')\n",
    "file_name = get_unique_filename(file_path)\n",
    "with open(file_name, \"w\") as file:\n",
    "    file.write(game_log)"
   ]
  },
  {
   "cell_type": "code",
   "execution_count": null,
   "id": "8bb92a7c-5578-4853-82f5-0ad1cae1b3a5",
   "metadata": {},
   "outputs": [],
   "source": [
    "from GameState import GameState\n",
    "\n",
    "game_state = GameState()\n",
    "game_state.play(4)\n",
    "print(game_state)"
   ]
  },
  {
   "cell_type": "code",
   "execution_count": null,
   "id": "f8636b18-566e-4f51-906e-bffa6d63b9f2",
   "metadata": {},
   "outputs": [],
   "source": [
    "print(game_state)"
   ]
  },
  {
   "cell_type": "code",
   "execution_count": null,
   "id": "61d4cf7d-ba69-4bed-b884-761f22c4142d",
   "metadata": {},
   "outputs": [],
   "source": [
    "game_state.play(2)\n",
    "print(game_state)"
   ]
  },
  {
   "cell_type": "code",
   "execution_count": null,
   "id": "286dd464-3d09-4868-b521-51e5a771e866",
   "metadata": {},
   "outputs": [],
   "source": [
    "from input_utils import convert_ai_response_to_move\n",
    "\n",
    "test_str = \"\"\"\n",
    "Next Play: X \n",
    "Last Play: O, 5 \n",
    " O |   |   \n",
    "   | X |   \n",
    "   |   |   \n",
    "\n",
    "\"\"\"\n",
    "\n",
    "convert_ai_response_to_move(test_str)"
   ]
  },
  {
   "cell_type": "code",
   "execution_count": null,
   "id": "3dd8c1f6-a63b-4017-a692-dbbea1bc7b12",
   "metadata": {},
   "outputs": [],
   "source": []
  }
 ],
 "metadata": {
  "kernelspec": {
   "display_name": "Python 3 (ipykernel)",
   "language": "python",
   "name": "python3"
  },
  "language_info": {
   "codemirror_mode": {
    "name": "ipython",
    "version": 3
   },
   "file_extension": ".py",
   "mimetype": "text/x-python",
   "name": "python",
   "nbconvert_exporter": "python",
   "pygments_lexer": "ipython3",
   "version": "3.9.6"
  }
 },
 "nbformat": 4,
 "nbformat_minor": 5
}
