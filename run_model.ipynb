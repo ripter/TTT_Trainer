{
 "cells": [
  {
   "cell_type": "code",
   "execution_count": null,
   "id": "3451637c-1e5b-45f4-9894-1c3c990ee6cc",
   "metadata": {},
   "outputs": [],
   "source": [
    "PATH_MODEL = \"./models/Mistral-7B-v0.1/\""
   ]
  },
  {
   "cell_type": "code",
   "execution_count": 3,
   "id": "61810c00-3b67-4a6c-b3bd-c45851a09222",
   "metadata": {},
   "outputs": [
    {
     "ename": "ModuleNotFoundError",
     "evalue": "No module named 'play_ai'",
     "output_type": "error",
     "traceback": [
      "\u001b[0;31m---------------------------------------------------------------------------\u001b[0m",
      "\u001b[0;31mModuleNotFoundError\u001b[0m                       Traceback (most recent call last)",
      "Cell \u001b[0;32mIn[3], line 1\u001b[0m\n\u001b[0;32m----> 1\u001b[0m \u001b[38;5;28;01mfrom\u001b[39;00m \u001b[38;5;21;01mplay_ai\u001b[39;00m \u001b[38;5;28;01mimport\u001b[39;00m play_ai\n\u001b[1;32m      3\u001b[0m play_ai(PATH_MODEL)\n",
      "\u001b[0;31mModuleNotFoundError\u001b[0m: No module named 'play_ai'"
     ]
    }
   ],
   "source": [
    "from play_ai import play_ai\n",
    "\n",
    "play_ai(PATH_MODEL)"
   ]
  },
  {
   "cell_type": "code",
   "execution_count": null,
   "id": "8bb92a7c-5578-4853-82f5-0ad1cae1b3a5",
   "metadata": {},
   "outputs": [],
   "source": [
    "from transformers import AutoTokenizer, AutoModel, AutoModelForCausalLM\n",
    "\n",
    "device = \"cpu\"\n",
    "# Define generation settings in a dictionary\n",
    "generation_config = {\n",
    "    \"max_length\": 200,\n",
    "    \"min_length\": 50,\n",
    "    \"early_stopping\": True,\n",
    "    \"num_beams\": 5,\n",
    "    \"temperature\": 0.7,\n",
    "    \"top_k\": 50,\n",
    "    \"top_p\": 0.95,\n",
    "    \"do_sample\": True,  # Enable sampling\n",
    "    # \"attention_mask\": attention_mask,  # Use the attention mask\n",
    "}\n",
    "\n",
    "# load the Tokenizer and Model\n",
    "tokenizer = AutoTokenizer.from_pretrained(PATH_MODEL)\n",
    "model = AutoModelForCausalLM.from_pretrained(PATH_MODEL).to(device)\n",
    "\n",
    "# Create the tokens\n",
    "sequence = \"In a hole in the ground there lived a hobbit.\"\n",
    "input_ids = tokenizer.encode(sequence, return_tensors=\"pt\").to(device)\n",
    "\n",
    "\n",
    "# Generate text using the encoded input IDs\n",
    "generated_ids = model.generate(input_ids=input_ids, **generation_config)\n",
    "# Decode the generated IDs to text\n",
    "generated_text = tokenizer.decode(generated_ids[0], skip_special_tokens=True)\n",
    "\n",
    "print(generated_text)"
   ]
  },
  {
   "cell_type": "code",
   "execution_count": null,
   "id": "959f79af-a290-4c52-adea-e699bc2d6a35",
   "metadata": {},
   "outputs": [],
   "source": [
    "{'input_ids': [101, 1999, 1037, 4920, 1999, 1996, 2598, 2045, 2973, 1037, 7570, 10322, 4183, 1012, 102], 'token_type_ids': [0, 0, 0, 0, 0, 0, 0, 0, 0, 0, 0, 0, 0, 0, 0], 'attention_mask': [1, 1, 1, 1, 1, 1, 1, 1, 1, 1, 1, 1, 1, 1, 1]}\n"
   ]
  },
  {
   "cell_type": "code",
   "execution_count": null,
   "id": "7adc3e53-1dee-423f-8ed2-f3136cf91f34",
   "metadata": {},
   "outputs": [],
   "source": [
    "names = (\"train\", \"valid\", \"test\")"
   ]
  },
  {
   "cell_type": "code",
   "execution_count": null,
   "id": "2ece0340-8bc1-48d1-83f8-bcca6330785f",
   "metadata": {},
   "outputs": [],
   "source": []
  },
  {
   "cell_type": "code",
   "execution_count": null,
   "id": "b45493fe-6569-4850-8ff1-a49e1528faf9",
   "metadata": {},
   "outputs": [],
   "source": [
    "from mlx_lm import load, generate\n",
    "\n",
    "model, tokenizer = load(PATH_MODEL)\n",
    "\n",
    "response = generate(\n",
    "    model, \n",
    "    tokenizer,\n",
    "    max_tokens=200,\n",
    "    temp=0.7,\n",
    "    prompt=\"In a hole in the ground there lived a hobbit.\", \n",
    "    verbose=True\n",
    ")"
   ]
  },
  {
   "cell_type": "code",
   "execution_count": null,
   "id": "f939e8ab-3a09-49c0-a859-dd519670bf8a",
   "metadata": {},
   "outputs": [],
   "source": [
    "help(generate)"
   ]
  },
  {
   "cell_type": "code",
   "execution_count": null,
   "id": "79436312-f409-44ac-b7a3-f0af3e49a48a",
   "metadata": {},
   "outputs": [],
   "source": [
    "help(response)"
   ]
  },
  {
   "cell_type": "code",
   "execution_count": null,
   "id": "b532faab-ce11-47c3-a859-5243f05b88a5",
   "metadata": {},
   "outputs": [],
   "source": []
  }
 ],
 "metadata": {
  "kernelspec": {
   "display_name": "Python 3 (ipykernel)",
   "language": "python",
   "name": "python3"
  },
  "language_info": {
   "codemirror_mode": {
    "name": "ipython",
    "version": 3
   },
   "file_extension": ".py",
   "mimetype": "text/x-python",
   "name": "python",
   "nbconvert_exporter": "python",
   "pygments_lexer": "ipython3",
   "version": "3.9.6"
  }
 },
 "nbformat": 4,
 "nbformat_minor": 5
}
