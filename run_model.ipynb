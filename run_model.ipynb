{
 "cells": [
  {
   "cell_type": "code",
   "execution_count": 1,
   "id": "3451637c-1e5b-45f4-9894-1c3c990ee6cc",
   "metadata": {},
   "outputs": [],
   "source": [
    "PATH_MODEL = \"./models/Mistral-7B-v0.1/\"\n",
    "LoRA_PATH = \"./adapters.npz\"\n",
    "\n",
    "import sys\n",
    "import os\n",
    "from src.consts import DIR_OUTPUT\n",
    "\n",
    "# Add the src/ to path so we can import things.\n",
    "src_path = os.path.abspath(os.path.join(os.getcwd(), 'src'))\n",
    "if src_path not in sys.path:\n",
    "    sys.path.append(src_path)\n",
    "\n",
    "\n",
    "# Make sure the output folder exists.\n",
    "os.makedirs(DIR_OUTPUT, exist_ok=True)"
   ]
  },
  {
   "cell_type": "code",
   "execution_count": 2,
   "id": "61810c00-3b67-4a6c-b3bd-c45851a09222",
   "metadata": {},
   "outputs": [
    {
     "name": "stderr",
     "output_type": "stream",
     "text": [
      "/Users/chrisrichards/dev/TTT_Trainer/venv/lib/python3.9/site-packages/urllib3/__init__.py:34: NotOpenSSLWarning: urllib3 v2 only supports OpenSSL 1.1.1+, currently the 'ssl' module is compiled with 'LibreSSL 2.8.3'. See: https://github.com/urllib3/urllib3/issues/3020\n",
      "  warnings.warn(\n"
     ]
    },
    {
     "name": "stdout",
     "output_type": "stream",
     "text": [
      "\n",
      "Next Play: X \n",
      "Last Play: None, None \n",
      "   |   |   \n",
      "   |   |   \n",
      "   |   |   \n",
      "\n",
      "\n",
      "----\n"
     ]
    },
    {
     "name": "stdin",
     "output_type": "stream",
     "text": [
      "Player Move (0-8) or 'f' to forfeit:  4\n"
     ]
    },
    {
     "ename": "TypeError",
     "evalue": "'<' not supported between instances of 'tuple' and 'int'",
     "output_type": "error",
     "traceback": [
      "\u001b[0;31m---------------------------------------------------------------------------\u001b[0m",
      "\u001b[0;31mTypeError\u001b[0m                                 Traceback (most recent call last)",
      "Cell \u001b[0;32mIn[2], line 8\u001b[0m\n\u001b[1;32m      6\u001b[0m GAME_NAME \u001b[38;5;241m=\u001b[39m \u001b[38;5;124m\"\u001b[39m\u001b[38;5;124mphase2\u001b[39m\u001b[38;5;124m\"\u001b[39m\n\u001b[1;32m      7\u001b[0m \u001b[38;5;66;03m# Play the AI!\u001b[39;00m\n\u001b[0;32m----> 8\u001b[0m game_log \u001b[38;5;241m=\u001b[39m \u001b[43mplay_ai\u001b[49m\u001b[43m(\u001b[49m\u001b[43mPATH_MODEL\u001b[49m\u001b[43m,\u001b[49m\u001b[43m \u001b[49m\u001b[43mLoRA_PATH\u001b[49m\u001b[43m)\u001b[49m\n\u001b[1;32m     10\u001b[0m \u001b[38;5;66;03m# Log the Game Results.\u001b[39;00m\n\u001b[1;32m     11\u001b[0m file_path \u001b[38;5;241m=\u001b[39m os\u001b[38;5;241m.\u001b[39mpath\u001b[38;5;241m.\u001b[39mjoin(DIR_OUTPUT, \u001b[38;5;124mf\u001b[39m\u001b[38;5;124m'\u001b[39m\u001b[38;5;132;01m{\u001b[39;00mGAME_NAME\u001b[38;5;132;01m}\u001b[39;00m\u001b[38;5;124m_game_log.txt\u001b[39m\u001b[38;5;124m'\u001b[39m)\n",
      "File \u001b[0;32m~/dev/TTT_Trainer/src/play_ai.py:36\u001b[0m, in \u001b[0;36mplay_ai\u001b[0;34m(model_path, LoRA_path)\u001b[0m\n\u001b[1;32m     33\u001b[0m \u001b[38;5;28;01mif\u001b[39;00m game_state\u001b[38;5;241m.\u001b[39mplayer \u001b[38;5;241m==\u001b[39m \u001b[38;5;124m\"\u001b[39m\u001b[38;5;124mX\u001b[39m\u001b[38;5;124m\"\u001b[39m:\n\u001b[1;32m     34\u001b[0m   \u001b[38;5;66;03m# Get the user's move and play it.\u001b[39;00m\n\u001b[1;32m     35\u001b[0m   user_move \u001b[38;5;241m=\u001b[39m input_for_move()\n\u001b[0;32m---> 36\u001b[0m   \u001b[43mgame_state\u001b[49m\u001b[38;5;241;43m.\u001b[39;49m\u001b[43mplay\u001b[49m\u001b[43m(\u001b[49m\u001b[43muser_move\u001b[49m\u001b[43m)\u001b[49m\n\u001b[1;32m     37\u001b[0m   result \u001b[38;5;241m+\u001b[39m\u001b[38;5;241m=\u001b[39m \u001b[38;5;28mstr\u001b[39m(game_state)\n\u001b[1;32m     38\u001b[0m \u001b[38;5;28;01melif\u001b[39;00m game_state\u001b[38;5;241m.\u001b[39mplayer \u001b[38;5;241m==\u001b[39m \u001b[38;5;124m\"\u001b[39m\u001b[38;5;124mO\u001b[39m\u001b[38;5;124m\"\u001b[39m:\n\u001b[1;32m     39\u001b[0m   \u001b[38;5;66;03m# Give the AI the entire game log as the prompt.\u001b[39;00m\n",
      "File \u001b[0;32m~/dev/TTT_Trainer/src/GameState.py:33\u001b[0m, in \u001b[0;36mGameState.play\u001b[0;34m(self, move)\u001b[0m\n\u001b[1;32m     32\u001b[0m \u001b[38;5;28;01mdef\u001b[39;00m \u001b[38;5;21mplay\u001b[39m(\u001b[38;5;28mself\u001b[39m, move):\n\u001b[0;32m---> 33\u001b[0m     \u001b[38;5;28;01mif\u001b[39;00m \u001b[43mmove\u001b[49m\u001b[43m \u001b[49m\u001b[38;5;241;43m<\u001b[39;49m\u001b[43m \u001b[49m\u001b[38;5;241;43m0\u001b[39;49m \u001b[38;5;129;01mor\u001b[39;00m move \u001b[38;5;241m>\u001b[39m \u001b[38;5;241m8\u001b[39m:\n\u001b[1;32m     34\u001b[0m         \u001b[38;5;28mself\u001b[39m\u001b[38;5;241m.\u001b[39merror_message \u001b[38;5;241m=\u001b[39m \u001b[38;5;124mf\u001b[39m\u001b[38;5;124m'\u001b[39m\u001b[38;5;132;01m{\u001b[39;00m\u001b[38;5;28mself\u001b[39m\u001b[38;5;241m.\u001b[39mplayer\u001b[38;5;132;01m}\u001b[39;00m\u001b[38;5;124m played an invalid move location. \u001b[39m\u001b[38;5;124m\"\u001b[39m\u001b[38;5;132;01m{\u001b[39;00mmove\u001b[38;5;132;01m}\u001b[39;00m\u001b[38;5;124m\"\u001b[39m\u001b[38;5;124m'\u001b[39m\n\u001b[1;32m     35\u001b[0m         \u001b[38;5;28;01mreturn\u001b[39;00m\n",
      "\u001b[0;31mTypeError\u001b[0m: '<' not supported between instances of 'tuple' and 'int'"
     ]
    }
   ],
   "source": [
    "import os\n",
    "from consts import DIR_OUTPUT\n",
    "from file_utils import get_unique_filename\n",
    "from play_ai import play_ai\n",
    "\n",
    "GAME_NAME = \"phase2\"\n",
    "# Play the AI!\n",
    "game_log = play_ai(PATH_MODEL, LoRA_PATH)\n",
    "\n",
    "# Log the Game Results.\n",
    "file_path = os.path.join(DIR_OUTPUT, f'{GAME_NAME}_game_log.txt')\n",
    "file_name = get_unique_filename(file_path)\n",
    "with open(file_name, \"w\") as file:\n",
    "    file.write(game_log)"
   ]
  },
  {
   "cell_type": "code",
   "execution_count": null,
   "id": "8bb92a7c-5578-4853-82f5-0ad1cae1b3a5",
   "metadata": {},
   "outputs": [],
   "source": [
    "from GameState import GameState\n",
    "\n",
    "game_state = GameState()\n",
    "game_state.play(4)\n",
    "print(game_state)"
   ]
  },
  {
   "cell_type": "code",
   "execution_count": null,
   "id": "f8636b18-566e-4f51-906e-bffa6d63b9f2",
   "metadata": {},
   "outputs": [],
   "source": [
    "print(game_state)"
   ]
  },
  {
   "cell_type": "code",
   "execution_count": null,
   "id": "61d4cf7d-ba69-4bed-b884-761f22c4142d",
   "metadata": {},
   "outputs": [],
   "source": [
    "game_state.play(2)\n",
    "print(game_state)"
   ]
  },
  {
   "cell_type": "code",
   "execution_count": null,
   "id": "286dd464-3d09-4868-b521-51e5a771e866",
   "metadata": {},
   "outputs": [],
   "source": []
  }
 ],
 "metadata": {
  "kernelspec": {
   "display_name": "Python 3 (ipykernel)",
   "language": "python",
   "name": "python3"
  },
  "language_info": {
   "codemirror_mode": {
    "name": "ipython",
    "version": 3
   },
   "file_extension": ".py",
   "mimetype": "text/x-python",
   "name": "python",
   "nbconvert_exporter": "python",
   "pygments_lexer": "ipython3",
   "version": "3.9.6"
  }
 },
 "nbformat": 4,
 "nbformat_minor": 5
}
