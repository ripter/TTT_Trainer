{
 "cells": [
  {
   "cell_type": "code",
   "execution_count": null,
   "id": "461216ee-498a-4ae3-ac8e-cd010ca70d5f",
   "metadata": {},
   "outputs": [],
   "source": [
    "# Llama interface using MLX\n",
    "from mlx_lm import load, generate\n",
    "\n",
    "model, tokenizer = load(PATH_MODEL)\n",
    "\n",
    "response = generate(\n",
    "    model, \n",
    "    tokenizer,\n",
    "    max_tokens=200,\n",
    "    temp=0.7,\n",
    "    prompt=\"In a hole in the ground there lived a hobbit.\", \n",
    "    verbose=True\n",
    ")\n",
    "\n"
   ]
  },
  {
   "cell_type": "code",
   "execution_count": null,
   "id": "c1e34b4c-f3ec-4753-aa34-8ad4dfd46c34",
   "metadata": {},
   "outputs": [],
   "source": [
    "# Llama interface using 🤗\n",
    "from transformers import AutoTokenizer, AutoModel, AutoModelForCausalLM\n",
    "\n",
    "device = \"cpu\"\n",
    "# Define generation settings in a dictionary\n",
    "generation_config = {\n",
    "    \"max_length\": 200,\n",
    "    \"min_length\": 50,\n",
    "    \"early_stopping\": True,\n",
    "    \"num_beams\": 5,\n",
    "    \"temperature\": 0.7,\n",
    "    \"top_k\": 50,\n",
    "    \"top_p\": 0.95,\n",
    "    \"do_sample\": True,  # Enable sampling\n",
    "    # \"attention_mask\": attention_mask,  # Use the attention mask\n",
    "}\n",
    "\n",
    "# load the Tokenizer and Model\n",
    "tokenizer = AutoTokenizer.from_pretrained(PATH_MODEL)\n",
    "model = AutoModelForCausalLM.from_pretrained(PATH_MODEL).to(device)\n",
    "\n",
    "# Create the tokens\n",
    "sequence = \"In a hole in the ground there lived a hobbit.\"\n",
    "input_ids = tokenizer.encode(sequence, return_tensors=\"pt\").to(device)\n",
    "\n",
    "\n",
    "# Generate text using the encoded input IDs\n",
    "generated_ids = model.generate(input_ids=input_ids, **generation_config)\n",
    "# Decode the generated IDs to text\n",
    "generated_text = tokenizer.decode(generated_ids[0], skip_special_tokens=True)\n",
    "\n",
    "print(generated_text)"
   ]
  }
 ],
 "metadata": {
  "kernelspec": {
   "display_name": "Python 3 (ipykernel)",
   "language": "python",
   "name": "python3"
  },
  "language_info": {
   "codemirror_mode": {
    "name": "ipython",
    "version": 3
   },
   "file_extension": ".py",
   "mimetype": "text/x-python",
   "name": "python",
   "nbconvert_exporter": "python",
   "pygments_lexer": "ipython3",
   "version": "3.9.6"
  }
 },
 "nbformat": 4,
 "nbformat_minor": 5
}
